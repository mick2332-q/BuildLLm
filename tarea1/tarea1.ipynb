{
 "cells": [
  {
   "cell_type": "code",
   "execution_count": 4,
   "id": "f8e37ea2",
   "metadata": {},
   "outputs": [],
   "source": [
    "import tiktoken"
   ]
  },
  {
   "cell_type": "code",
   "execution_count": 37,
   "id": "ddaeb661",
   "metadata": {},
   "outputs": [],
   "source": [
    "with open(\"corpus_colombia.txt\", \"r\", encoding=\"utf-8\") as f:\n",
    "    raw_text1 = f.read().replace(\"\\n\", \" \")\n"
   ]
  },
  {
   "cell_type": "code",
   "execution_count": 65,
   "id": "2ce011ec",
   "metadata": {},
   "outputs": [],
   "source": [
    "with open(\"corpus_codigo.txt\", \"r\", encoding=\"utf-8\") as f:\n",
    "    raw_text2 = f.read().replace(\"\\n\", \" \").strip()"
   ]
  },
  {
   "cell_type": "code",
   "execution_count": 39,
   "id": "5af1d4f4",
   "metadata": {},
   "outputs": [
    {
     "data": {
      "text/plain": [
       "'Me tomé un tinto en la plaza de Bolívar después de trabajar toda la mañana. El bus se varó en plena Séptima y todos los pasajeros tuvieron que bajarse. La Selección Colombia ganó el partido en Barranquilla con un gol en el último minuto. Voy a mercar al Éxito porque mañana sube el precio del arroz y la panela. Parce, ¿vamos a jugar microfútbol esta noche en la cancha del barrio? El clima en Medellín está perfecto para salir en cicla y disfrutar de la tarde. En Cali la salsa nunca falta, cada esquina tiene su propio ritmo y sabor. Mi abuela prepara arepas todos los domingos y las acompaña con chocolate caliente. Los trancones en Bogotá a las seis de la tarde son imposibles, toca armarse de paciencia. Los costeños hablan sabroso, siempre con una sonrisa y una historia que contar. El café colombiano es reconocido en todo el mundo por su calidad y su aroma especial. En Pasto, durante el carnaval de negros y blancos, la ciudad se llena de color y música. Los estudiantes de la Nacional protestaron en la Plaza de Bolívar por mejores condiciones. Un paseo a Villa de Leyva siempre es buena idea, las calles empedradas son mágicas. En Cartagena, el calor es intenso, pero el mar Caribe refresca a cualquiera. El vallenato en Valledupar se escucha en cada esquina, con acordeón y caja. En Bucaramanga la gente disfruta de las hormigas culonas como si fueran un manjar. La arepa de huevo es típica de la Costa, frita y crujiente, perfecta para desayunar. Los paisas dicen “pues hombre” para empezar cualquier frase, es parte de su identidad. La feria de las flores en Medellín es un espectáculo lleno de silleteros y tradición. Ole mano no sea tan pingo '"
      ]
     },
     "execution_count": 39,
     "metadata": {},
     "output_type": "execute_result"
    }
   ],
   "source": [
    "raw_text1"
   ]
  },
  {
   "cell_type": "code",
   "execution_count": 57,
   "id": "7b61f949",
   "metadata": {},
   "outputs": [
    {
     "data": {
      "text/plain": [
       "'def suma(a, b):     return a + b  def resta(a, b):     return a - b  def factorial(n):     if n == 0:         return 1     else:         return n * factorial(n-1)  class Persona:     def __init__(self, nombre, edad):         self.nombre = nombre         self.edad = edad          def saludar(self):         print(f\"Hola, me llamo {self.nombre} y tengo {self.edad} años.\")  class Estudiante(Persona):     def __init__(self, nombre, edad, universidad):         super().__init__(nombre, edad)         self.universidad = universidad          def estudiar(self, materia):         print(f\"{self.nombre} está estudiando {materia} en {self.universidad}\")  for i in range(5):     print(\"Número:\", i)  def fibonacci(n):     a, b = 0, 1     secuencia = []     for _ in range(n):         secuencia.append(a)         a, b = b, a + b     return secuencia  if __name__ == \"__main__\":     p = Persona(\"Ana\", 30)     p.saludar()     e = Estudiante(\"Luis\", 20, \"Universidad Nacional\")     e.saludar()     e.estudiar(\"matemáticas\")     print(\"Factorial de 5:\", factorial(5))     print(\"Fibonacci hasta 10:\", fibonacci(10))'"
      ]
     },
     "execution_count": 57,
     "metadata": {},
     "output_type": "execute_result"
    }
   ],
   "source": [
    "raw_text2"
   ]
  },
  {
   "cell_type": "code",
   "execution_count": 58,
   "id": "d67e7e3c",
   "metadata": {},
   "outputs": [],
   "source": [
    "tokenizer = tiktoken.get_encoding(\"gpt2\")\n"
   ]
  },
  {
   "cell_type": "code",
   "execution_count": 59,
   "id": "02806b80",
   "metadata": {},
   "outputs": [
    {
     "name": "stdout",
     "output_type": "stream",
     "text": [
      "[5308, 16667, 2634, 555, 256, 20424, 551, 8591, 42433, 390, 10797, 8836, 7785, 11267, 84, 20954, 390, 491, 397, 1228, 283, 284, 6814, 8591, 17266, 12654, 2271, 13, 2574, 1323, 384, 1401, 10205, 551, 458, 8107, 311, 2634, 457, 8083, 331, 284, 37427, 22346, 38836, 1228, 27498, 12777, 49663, 261, 8358, 275, 1228, 17208, 13, 4689, 1001, 293, 35764, 18840, 21291, 308, 272, 10205, 1288, 636, 17305, 551, 2409, 2596, 421, 5049, 369, 555, 43791, 551, 1288, 6184, 118, 2528, 25147, 949, 9390, 13, 23020, 257, 11991, 283, 435, 43052, 87, 10094, 16964, 4188, 17266, 12654, 2271, 850, 68, 1288, 3718, 952, 1619, 610, 305, 89, 331, 8591, 6103, 64, 13, 2547, 344, 11, 1587, 123, 85, 321, 418, 257, 474, 35652, 4580, 69, 21356, 83, 28984, 1556, 64, 299, 30848, 551, 8591, 460, 11693, 1619, 2318, 27250, 30, 2574, 5424, 64, 551, 2019, 695, 39588, 1556, 6557, 2818, 78, 31215, 3664, 343, 551, 269, 291, 5031, 331, 595, 8310, 315, 283, 390, 8591, 256, 45093, 13, 2039, 2199, 72, 8591, 49529, 48157, 6888, 277, 2501, 64, 11, 269, 4763, 1658, 421, 1437, 46668, 1734, 424, 2632, 952, 374, 270, 5908, 331, 264, 4820, 13, 13756, 450, 2731, 64, 9198, 64, 389, 44429, 284, 37427, 22346, 2401, 278, 418, 331, 39990, 257, 5589, 64, 30644, 369, 11311, 2386, 1153, 68, 13, 5401, 491, 272, 1102, 274, 551, 21555, 313, 6557, 257, 39990, 384, 271, 390, 8591, 256, 45093, 3367, 848, 418, 18764, 11, 284, 6888, 3211, 17208, 390, 23503, 2013, 33743, 13, 5401, 1575, 68, 12654, 418, 387, 2436, 272, 17463, 305, 568, 11, 264, 26597, 3866, 369, 555, 64, 3367, 2442, 64, 331, 555, 64, 3752, 544, 8358, 542, 283, 13, 2574, 40304, 951, 2381, 10115, 1658, 8195, 420, 17305, 551, 284, 4598, 1288, 27943, 78, 16964, 424, 2386, 32482, 331, 424, 31242, 1658, 431, 2413, 13, 2039, 11303, 78, 11, 22365, 12427, 1288, 18466, 9226, 390, 2469, 4951, 331, 698, 1192, 418, 11, 8591, 269, 72, 463, 324, 384, 32660, 8107, 390, 3124, 331, 285, 21356, 82, 3970, 13, 5401, 1556, 463, 3014, 274, 390, 8591, 399, 330, 1538, 5402, 8045, 551, 8591, 23280, 390, 10797, 8836, 7785, 16964, 502, 73, 2850, 1779, 47430, 274, 13, 791, 279, 589, 78, 257, 25018, 390, 40662, 6862, 264, 26597, 3866, 1658, 809, 8107, 2126, 11, 39990, 869, 274, 795, 9124, 6335, 292, 3367, 285, 6557, 70, 44645, 13, 2039, 13690, 363, 8107, 11, 1288, 2386, 273, 1658, 493, 268, 568, 11, 583, 78, 1288, 1667, 17152, 68, 17434, 6888, 257, 269, 723, 421, 41976, 13, 2574, 410, 439, 268, 5549, 551, 569, 4262, 929, 283, 384, 3671, 48022, 551, 269, 4763, 1658, 421, 1437, 11, 369, 936, 17531, 18840, 331, 269, 27792, 13, 2039, 23627, 41158, 16484, 8591, 308, 21872, 595, 8310, 29822, 390, 39990, 12241, 328, 292, 10845, 261, 292, 401, 78, 33721, 14035, 263, 272, 555, 582, 9491, 13, 4689, 389, 8957, 390, 37409, 13038, 1658, 256, 8836, 79, 3970, 390, 8591, 18133, 11, 277, 799, 64, 331, 4630, 73, 1153, 68, 11, 2818, 64, 31215, 748, 323, 403, 283, 13, 5401, 14187, 271, 292, 288, 291, 268, 564, 250, 79, 947, 289, 2381, 260, 447, 251, 31215, 795, 431, 41046, 269, 723, 421, 959, 1216, 589, 11, 1658, 636, 68, 390, 424, 1852, 32482, 13, 4689, 277, 5142, 390, 39990, 781, 2850, 551, 2019, 695, 39588, 1658, 555, 1658, 806, 6557, 3129, 78, 32660, 23397, 390, 3313, 293, 353, 418, 331, 2083, 44070, 18840, 13, 30093, 582, 78, 645, 5417, 25706, 29400, 78, 220]\n",
      "\n",
      " [4299, 2160, 64, 7, 64, 11, 275, 2599, 220, 220, 220, 220, 1441, 257, 1343, 275, 220, 825, 1334, 64, 7, 64, 11, 275, 2599, 220, 220, 220, 220, 1441, 257, 532, 275, 220, 825, 1109, 5132, 7, 77, 2599, 220, 220, 220, 220, 611, 299, 6624, 657, 25, 220, 220, 220, 220, 220, 220, 220, 220, 1441, 352, 220, 220, 220, 220, 2073, 25, 220, 220, 220, 220, 220, 220, 220, 220, 1441, 299, 1635, 1109, 5132, 7, 77, 12, 16, 8, 220, 1398, 41581, 25, 220, 220, 220, 220, 825, 11593, 15003, 834, 7, 944, 11, 299, 2381, 260, 11, 1225, 324, 2599, 220, 220, 220, 220, 220, 220, 220, 220, 2116, 13, 77, 2381, 260, 796, 299, 2381, 260, 220, 220, 220, 220, 220, 220, 220, 220, 2116, 13, 276, 324, 796, 1225, 324, 220, 220, 220, 220, 220, 220, 220, 220, 220, 825, 3664, 463, 283, 7, 944, 2599, 220, 220, 220, 220, 220, 220, 220, 220, 3601, 7, 69, 1, 39, 5708, 11, 502, 32660, 18811, 1391, 944, 13, 77, 2381, 260, 92, 331, 256, 1516, 78, 1391, 944, 13, 276, 324, 92, 257, 12654, 418, 19570, 220, 1398, 10062, 463, 3014, 68, 7, 15439, 64, 2599, 220, 220, 220, 220, 825, 11593, 15003, 834, 7, 944, 11, 299, 2381, 260, 11, 1225, 324, 11, 5820, 32482, 2599, 220, 220, 220, 220, 220, 220, 220, 220, 2208, 22446, 834, 15003, 834, 7, 77, 2381, 260, 11, 1225, 324, 8, 220, 220, 220, 220, 220, 220, 220, 220, 2116, 13, 403, 1191, 32482, 796, 5820, 32482, 220, 220, 220, 220, 220, 220, 220, 220, 220, 825, 1556, 463, 12571, 7, 944, 11, 26910, 544, 2599, 220, 220, 220, 220, 220, 220, 220, 220, 3601, 7, 69, 1, 90, 944, 13, 77, 2381, 260, 92, 1556, 6557, 1556, 47928, 25440, 1391, 76, 729, 544, 92, 551, 1391, 944, 13, 403, 1191, 32482, 92, 4943, 220, 329, 1312, 287, 2837, 7, 20, 2599, 220, 220, 220, 220, 3601, 7203, 45, 21356, 647, 78, 25, 1600, 1312, 8, 220, 825, 12900, 261, 44456, 7, 77, 2599, 220, 220, 220, 220, 257, 11, 275, 796, 657, 11, 352, 220, 220, 220, 220, 792, 84, 29634, 796, 17635, 220, 220, 220, 220, 329, 4808, 287, 2837, 7, 77, 2599, 220, 220, 220, 220, 220, 220, 220, 220, 792, 84, 29634, 13, 33295, 7, 64, 8, 220, 220, 220, 220, 220, 220, 220, 220, 257, 11, 275, 796, 275, 11, 257, 1343, 275, 220, 220, 220, 220, 1441, 792, 84, 29634, 220, 611, 11593, 3672, 834, 6624, 366, 834, 12417, 834, 1298, 220, 220, 220, 220, 279, 796, 41581, 7203, 2025, 64, 1600, 1542, 8, 220, 220, 220, 220, 279, 13, 21680, 463, 283, 3419, 220, 220, 220, 220, 304, 796, 10062, 463, 3014, 68, 7203, 25596, 271, 1600, 1160, 11, 366, 3118, 1191, 32482, 399, 330, 1538, 4943, 220, 220, 220, 220, 304, 13, 21680, 463, 283, 3419, 220, 220, 220, 220, 304, 13, 395, 463, 12571, 7203, 6759, 368, 6557, 13370, 292, 4943, 220, 220, 220, 220, 3601, 7203, 29054, 5132, 390, 642, 25, 1600, 1109, 5132, 7, 20, 4008, 220, 220, 220, 220, 3601, 7203, 37, 571, 261, 44456, 19338, 64, 838, 25, 1600, 12900, 261, 44456, 7, 940, 4008]\n"
     ]
    }
   ],
   "source": [
    "tokens_colombia = tokenizer.encode(raw_text1)\n",
    "tokens_codigo = tokenizer.encode(raw_text2)\n",
    "print(tokens_colombia)\n",
    "print(\"\\n\",tokens_codigo)"
   ]
  },
  {
   "cell_type": "code",
   "execution_count": 60,
   "id": "46a49c05",
   "metadata": {},
   "outputs": [
    {
     "name": "stdout",
     "output_type": "stream",
     "text": [
      "Me tomé un tinto en la plaza de Bolívar después de trabajar toda la mañana. El bus se varó en plena Séptima y todos los pasajeros tuvieron que bajarse. La Selección Colombia ganó el partido en Barranquilla con un gol en el último minuto. Voy a mercar al Éxito porque mañana sube el precio del arroz y la panela. Parce, ¿vamos a jugar microfútbol esta noche en la cancha del barrio? El clima en Medellín está perfecto para salir en cicla y disfrutar de la tarde. En Cali la salsa nunca falta, cada esquina tiene su propio ritmo y sabor. Mi abuela prepara arepas todos los domingos y las acompaña con chocolate caliente. Los trancones en Bogotá a las seis de la tarde son imposibles, toca armarse de paciencia. Los costeños hablan sabroso, siempre con una sonrisa y una historia que contar. El café colombiano es reconocido en todo el mundo por su calidad y su aroma especial. En Pasto, durante el carnaval de negros y blancos, la ciudad se llena de color y música. Los estudiantes de la Nacional protestaron en la Plaza de Bolívar por mejores condiciones. Un paseo a Villa de Leyva siempre es buena idea, las calles empedradas son mágicas. En Cartagena, el calor es intenso, pero el mar Caribe refresca a cualquiera. El vallenato en Valledupar se escucha en cada esquina, con acordeón y caja. En Bucaramanga la gente disfruta de las hormigas culonas como si fueran un manjar. La arepa de huevo es típica de la Costa, frita y crujiente, perfecta para desayunar. Los paisas dicen “pues hombre” para empezar cualquier frase, es parte de su identidad. La feria de las flores en Medellín es un espectáculo lleno de silleteros y tradición. Ole mano no sea tan pingo \n",
      "\n",
      " def suma(a, b):     return a + b  def resta(a, b):     return a - b  def factorial(n):     if n == 0:         return 1     else:         return n * factorial(n-1)  class Persona:     def __init__(self, nombre, edad):         self.nombre = nombre         self.edad = edad          def saludar(self):         print(f\"Hola, me llamo {self.nombre} y tengo {self.edad} años.\")  class Estudiante(Persona):     def __init__(self, nombre, edad, universidad):         super().__init__(nombre, edad)         self.universidad = universidad          def estudiar(self, materia):         print(f\"{self.nombre} está estudiando {materia} en {self.universidad}\")  for i in range(5):     print(\"Número:\", i)  def fibonacci(n):     a, b = 0, 1     secuencia = []     for _ in range(n):         secuencia.append(a)         a, b = b, a + b     return secuencia  if __name__ == \"__main__\":     p = Persona(\"Ana\", 30)     p.saludar()     e = Estudiante(\"Luis\", 20, \"Universidad Nacional\")     e.saludar()     e.estudiar(\"matemáticas\")     print(\"Factorial de 5:\", factorial(5))     print(\"Fibonacci hasta 10:\", fibonacci(10))\n"
     ]
    }
   ],
   "source": [
    "print(tokenizer.decode(tokens_colombia))\n",
    "print(\"\\n\",tokenizer.decode(tokens_codigo))"
   ]
  },
  {
   "cell_type": "code",
   "execution_count": 61,
   "id": "14a3f9d6",
   "metadata": {},
   "outputs": [],
   "source": [
    "vocab_colombia = set(tokens_colombia)\n",
    "vocab_codigo = set(tokens_codigo)"
   ]
  },
  {
   "cell_type": "code",
   "execution_count": 63,
   "id": "e89fce60",
   "metadata": {},
   "outputs": [
    {
     "name": "stdout",
     "output_type": "stream",
     "text": [
      "Tamaño de vocabulario (texto colombiano): 316\n",
      "Tamaño de vocabulario (código): 134\n"
     ]
    }
   ],
   "source": [
    "print(\"Tamaño de vocabulario (texto colombiano):\", len(vocab_colombia))\n",
    "print(\"Tamaño de vocabulario (código):\", len(vocab_codigo))"
   ]
  },
  {
   "cell_type": "code",
   "execution_count": 64,
   "id": "c16f3fe7",
   "metadata": {},
   "outputs": [],
   "source": [
    "from collections import Counter"
   ]
  },
  {
   "cell_type": "code",
   "execution_count": 67,
   "id": "2db39b63",
   "metadata": {},
   "outputs": [
    {
     "name": "stdout",
     "output_type": "stream",
     "text": [
      "Tokens más frecuentes (texto colombiano):\n",
      "Token: '.' - Frecuencia: 19\n",
      "Token: ' de' - Frecuencia: 16\n",
      "Token: ' en' - Frecuencia: 13\n",
      "Token: ',' - Frecuencia: 13\n",
      "Token: ' la' - Frecuencia: 12\n",
      "Token: ' y' - Frecuencia: 12\n",
      "Token: 'a' - Frecuencia: 12\n",
      "Token: ' es' - Frecuencia: 10\n",
      "Token: 'o' - Frecuencia: 9\n",
      "Token: ' el' - Frecuencia: 7\n",
      "\n",
      "Tokens más frecuentes (código):\n",
      "Token: ' ' - Frecuencia: 177\n",
      "Token: '(' - Frecuencia: 18\n",
      "Token: ',' - Frecuencia: 15\n",
      "Token: '):' - Frecuencia: 11\n",
      "Token: '.' - Frecuencia: 11\n",
      "Token: 'a' - Frecuencia: 8\n",
      "Token: ' b' - Frecuencia: 8\n",
      "Token: 'n' - Frecuencia: 8\n",
      "Token: 'self' - Frecuencia: 8\n",
      "Token: ' =' - Frecuencia: 8\n"
     ]
    }
   ],
   "source": [
    "# Obtener los tokens más frecuentes y sus frecuencias\n",
    "freq_colombia = Counter(tokens_colombia).most_common(10)\n",
    "freq_codigo = Counter(tokens_codigo).most_common(10)\n",
    "\n",
    "# Imprimir tokens decodificados con frecuencias para texto colombiano\n",
    "print(\"Tokens más frecuentes (texto colombiano):\")\n",
    "for token_id, freq in freq_colombia:\n",
    "    token_decodificado = tokenizer.decode([token_id])\n",
    "    print(f\"Token: '{token_decodificado}' - Frecuencia: {freq}\")\n",
    "\n",
    "print(\"\\nTokens más frecuentes (código):\")\n",
    "for token_id, freq in freq_codigo:\n",
    "    token_decodificado = tokenizer.decode([token_id])\n",
    "    print(f\"Token: '{token_decodificado}' - Frecuencia: {freq}\")\n"
   ]
  }
 ],
 "metadata": {
  "kernelspec": {
   "display_name": "BuildLLm",
   "language": "python",
   "name": "python3"
  },
  "language_info": {
   "codemirror_mode": {
    "name": "ipython",
    "version": 3
   },
   "file_extension": ".py",
   "mimetype": "text/x-python",
   "name": "python",
   "nbconvert_exporter": "python",
   "pygments_lexer": "ipython3",
   "version": "3.11.13"
  }
 },
 "nbformat": 4,
 "nbformat_minor": 5
}
